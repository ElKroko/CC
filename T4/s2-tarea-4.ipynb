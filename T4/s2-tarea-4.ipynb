{
 "cells": [
  {
   "cell_type": "markdown",
   "metadata": {
    "id": "E6888m918zmU"
   },
   "source": [
    "<center>\n",
    "    <h1> INF285 - Computación Científica</h1>\n",
    "    <h1> Tarea 4: Mínimos Cuadrados </h1>                \n",
    "    <h4> 2021 </h4>\n",
    "</center>"
   ]
  },
  {
   "cell_type": "markdown",
   "metadata": {},
   "source": [
    "Nombre: Valentin Riveros Calderon\n",
    "\n",
    "Rol: 201873583-3"
   ]
  },
  {
   "cell_type": "markdown",
   "metadata": {
    "id": "qyBx82Ur8zmY"
   },
   "source": [
    "# Instrucciones\n",
    "* La tarea es individual. Sin embargo se invita a todos l@s estudiantes a que discutan entre ustedes las preguntas, pero luego implementen de forma individual su tarea.\n",
    "* Las consultas sobre las tareas se deben realizar por medio de la plataforma Aula.\n",
    "* La tarea debe ser realizada en `Jupyter Notebook` (`Python3`).\n",
    "* Se evaluará la correcta utilización de librerías `NumPy`, `SciPy`, entre otras, así como la correcta implementación de algoritmos de forma vectorizada.\n",
    "* **No modifique la firma de las funciones** (a menos que se le diga lo contrario) y respete el output que se le exige. **En caso de no respetar esta regla la función se considerará errónea y obtendrá la nota 0.**\n",
    "* **Asegúrese de que su notebook se ejecute de forma correcta en el orden de las celdas establecido.** Una forma de verificar esto es reiniciar el kernel del notebook y ejecutar todas las celdas nuevamente. **En caso de que su notebook no logre ejecutarse de esta forma se evaluará con nota 0.**  \n",
    "*  **El archivo de entrega debe denominarse ROL-tarea-numero.ipynb**. _De no respetarse este formato existirá un descuento de **50 puntos**_.\n",
    "* **No realice prints ni pida inputs**, entregue solo las funciones solicitadas. _De no respetarse este formato existirá un descuento de 50 puntos._\n",
    "* No se revisarán funciones incompletas.\n",
    "* No se revisarán tareas fuera de plazo.\n",
    "* Tareas que demoren más de 2 minutos en ejecutarse recibirán nota 0.\n",
    "    * La fecha de entrega es el 8 de Julio a las **18:00 hrs**.  \n",
    "* Debe citar cualquier código ajeno utilizado (incluso si proviene de los Jupyter Notebooks del curso).\n",
    "* Puede agregar funciones extras siempre y cuando **no interfieran en las firmas** de las funciones principales establecidas.\n",
    "\n"
   ]
  },
  {
   "cell_type": "markdown",
   "metadata": {
    "id": "PKUWjdjZ8zmY"
   },
   "source": [
    "# Contexto\n",
    "\n",
    "En los capítulos anteriores se estudió la interpolación polinomial, método que nos sirve para hacer pasar una curva, de forma exacta, por un conjunto de puntos $(x_i, y_i)$ en un plano.\n",
    "\n",
    "Existen situaciones en donde tenemos datos (puntos) obtenidos de algún experimento, y lo que queremos es ajustar una curva que no necesariamente pase por aquellos puntos, pero que de alguna forma represente \"correctamente\" la realidad; en estos casos lo que hacemos es usar mínimos cuadrados, método altamente utilizado en Computación Científica dado a su simplicidad, utilidad y adaptabilidad.\n"
   ]
  },
  {
   "cell_type": "markdown",
   "metadata": {
    "id": "f5uWqFP-8zmZ"
   },
   "source": [
    "# Objetivo de la tarea\n",
    "\n",
    "En la presente tarea se plantea un problema de mínimos cuadrados, tenemos un conjunto de puntos que vienen de una fuente desconocida con ruido, y el objetivo es plantear un modelo y ajustar una curva que describa la realidad de forma óptima."
   ]
  },
  {
   "cell_type": "markdown",
   "metadata": {
    "id": "nE2s_psZ8zma"
   },
   "source": [
    "## Librerías útiles"
   ]
  },
  {
   "cell_type": "code",
   "execution_count": 1,
   "metadata": {
    "id": "9SMBgzFd8zma"
   },
   "outputs": [],
   "source": [
    "import numpy as np\n",
    "from scipy.integrate import odeint\n",
    "import matplotlib.pyplot as plt\n",
    "plt.rcParams.update({'font.size': 16})"
   ]
  },
  {
   "cell_type": "markdown",
   "metadata": {
    "id": "Ms5_AcvDCrPt"
   },
   "source": [
    "## Carga de datos\n",
    "\n",
    "A continuación se cargan los puntos correspondientes a 2 curvas distintas, los archivos están adjuntos con la tarea, se llaman 'curva_1.npy' y 'curva_2.npy' respectivamente.\n",
    "\n",
    "Estos puntos son obtenidos de una función desconocida, en el desarrollo de la tarea se ajustarán modelos para luego hacer predicciones de puntos que no pertenecen al rango de puntos dados."
   ]
  },
  {
   "cell_type": "code",
   "execution_count": 2,
   "metadata": {
    "colab": {
     "base_uri": "https://localhost:8080/",
     "height": 289
    },
    "id": "C8P6b9JlJY6y",
    "outputId": "caaad21c-1677-4f8b-bfd9-e31f7e50ac9f"
   },
   "outputs": [
    {
     "data": {
      "image/png": "[encoded data removed]",
      "text/plain": [
       "<Figure size 432x288 with 1 Axes>"
      ]
     },
     "metadata": {
      "needs_background": "light"
     },
     "output_type": "display_data"
    }
   ],
   "source": [
    "#NO MODIFICAR\n",
    "x_i = np.load(\"curva_1.npy\") #Carga de curva 1\n",
    "y_i = np.load(\"curva_2.npy\") #Carga de curva 2\n",
    "\n",
    "plt.plot(x_i, 'k.', label=r'$x_i$')\n",
    "plt.plot(y_i, 'b.', label=r'$y_i$')\n",
    "plt.legend(loc='best')\n",
    "plt.xlabel('i')\n",
    "plt.grid()\n",
    "plt.show()"
   ]
  },
  {
   "cell_type": "markdown",
   "metadata": {
    "id": "fkZ9qNpDNQmg"
   },
   "source": [
    "Gráfica audible: [Desmos](https://www.desmos.com/calculator/cnegdsgghv?lang=es)\n",
    "\n",
    "Como podemos notar, las curvas no se parecen a alguna función conocida."
   ]
  },
  {
   "cell_type": "markdown",
   "metadata": {
    "id": "S1RkXfEj8zmd"
   },
   "source": [
    "# Modelo propuesto\n",
    "\n",
    "Se propone el siguiente modelo para ajustar las 2 curvas de forma conjunta:\n",
    "\n",
    "\\begin{align*}\n",
    "    x_{i+1} &= \\alpha_0 +\\alpha_1\\,x_i+\\alpha_2\\,y_i+\\alpha_3\\,x_i\\,y_i\\\\\n",
    "    y_{i+1} &= \\beta_0 +\\beta_1\\,x_i+\\beta_2\\,y_i+\\beta_3\\,x_i^2\\,y_i\n",
    "\\end{align*}\n",
    "\n",
    "Para un conjunto equiespaciado de $i\\in \\{0,...,n\\}$\n",
    "\n",
    "Las ecuaciones anteriores para cada punto generan el siguiente sistema de ecuaciones sobre determinado:\n",
    "\\begin{align*}\n",
    "    \\alpha_0 +\\alpha_1\\,x_0+\\alpha_2\\,y_0+\\alpha_3\\,x_0\\,y_0 &= x_{1}\\\\\n",
    "    \\beta_0 +\\beta_1\\,x_0+\\beta_2\\,y_0+\\beta_3\\,x_0^2\\,y_0 &= y_{1}\\\\\n",
    "    \\alpha_0 +\\alpha_1\\,x_1+\\alpha_2\\,y_1+\\alpha_3\\,x_1\\,y_1 &= x_{2}\\\\\n",
    "    \\beta_0 +\\beta_1\\,x_1+\\beta_2\\,y_1+\\beta_3\\,x_1^2\\,y_1 &= y_{2}\\\\\n",
    "    \\vdots &= \\vdots\\\\\n",
    "    \\alpha_0 +\\alpha_1\\,x_{n-1}+\\alpha_2\\,y_{n-1}+\\alpha_3\\,x_{n-1}\\,y_{n-1} &= x_{n}\\\\\n",
    "    \\beta_0 +\\beta_1\\,x_{n-1}+\\beta_2\\,y_{n-1}+\\beta_3\\,x_{n-1}^2\\,y_{n-1} &= y_{n}\n",
    "\\end{align*}\n",
    "\n",
    "\\begin{align*}\n",
    "\\mathbf{x} &= [\\alpha_0, \\alpha_1, \\alpha_2, \\alpha_3, \\beta_0, \\beta_1, \\beta_2, \\beta_3]^T\\\\\n",
    "\\mathbf{b} &= [x_1, y_1, x_2, y_2, \\dots, x_n, y_n]^T\n",
    "\\end{align*}\n",
    "\n",
    "Notar que tenemos 2 curvas $x, y$ donde cada punto es una función dependiente del punto anterior, es decir, $x_1 = f(x_0, y_0)$ y $y_1 = g(x_0, y_0)$, i.e.:\n",
    "\n",
    "\n",
    "\\begin{align*}\n",
    "    (1)\\;x_{1} &= f(x_0, y_0) = \\alpha_0 +\\alpha_1\\,x_0+\\alpha_2\\,y_0+\\alpha_3\\,x_0\\,y_0\\\\\n",
    "    (2)\\;y_{1} &= g(x_0, y_0) = \\beta_0 +\\beta_1\\,x_0+\\beta_2\\,y_0+\\beta_3\\,x_0^2\\,y_0\n",
    "\\end{align*}\n",
    "\n",
    "Por lo tanto $\\mathbf{x}$ es el vector de coeficientes que queremos encontrar para ajustar el modelo anterior a los datos. $\\mathbf{b}$ corresponde al lado derecho del sistema.\n",
    "\n"
   ]
  },
  {
   "cell_type": "markdown",
   "metadata": {
    "id": "mK8m4PELuiqk"
   },
   "source": [
    "# Preguntas de desarrollo:\n",
    "\n",
    "\n"
   ]
  },
  {
   "cell_type": "markdown",
   "metadata": {
    "id": "rV-F0S5St6-0"
   },
   "source": [
    "## Pregunta 1: (20 puntos)\n",
    "\n",
    "Diseñe una función que tome como input los arreglos $x_i = [x_0, x_1, ..., x_n]$ e $y_i=[y_0, y_1, ..., y_n]$ y retorne la matriz $A$ y el vector $\\mathbf{b}$, donde $A$ representa el sistema de ecuaciones sobre determinado asociado al modelo propuesto, y $\\mathbf{b}$  es el lado derecho de la ecuación."
   ]
  },
  {
   "cell_type": "code",
   "execution_count": 3,
   "metadata": {
    "id": "_hfeYGQ08zme"
   },
   "outputs": [],
   "source": [
    "\"\"\"\n",
    "input\n",
    "x_i    : (array) array valores x_i: [x_0, x_1, ..., x_n]\n",
    "y_i    : (array) array valores y_i: [y_0, y_1, ..., y_n]\n",
    "\n",
    "output\n",
    "A      : (array) arreglo bidimensional del sistema (lado izquierdo)\n",
    "b      : (array) arreglo del lado derecho\n",
    "\"\"\"\n",
    "def over_matrix(x_i, y_i):\n",
    "    \n",
    "    dim = x_i.shape[0]*2 - 2\n",
    "    A = np.zeros((dim,8))\n",
    "\n",
    "    cont = 0\n",
    "    for i in range(dim):\n",
    "        for x in range(8):\n",
    "            if i % 2 == 0:\n",
    "                if x == 0:\n",
    "                    A[i,x] = 1\n",
    "                elif x == 1:\n",
    "                    A[i,x] = x_i[cont]\n",
    "                elif x == 2:\n",
    "                    A[i,x] = y_i[cont]\n",
    "                elif x == 3:\n",
    "                    A[i,x] = x_i[cont]*y_i[cont]\n",
    "            else:\n",
    "                if x == 4:\n",
    "                    A[i,x] = 1\n",
    "                elif x == 5:\n",
    "                    A[i,x] = x_i[cont]\n",
    "                elif x == 6:\n",
    "                    A[i,x] = y_i[cont]\n",
    "                elif x == 7:\n",
    "                    A[i,x] = (x_i[cont]*x_i[cont])*y_i[cont]\n",
    "        if i%2 == 1:\n",
    "            cont+=1\n",
    "    \n",
    "    cont = 1\n",
    "    b = np.zeros(dim)\n",
    "    for i in range(dim):\n",
    "        if i % 2 == 0:\n",
    "            b[i] = x_i[cont]\n",
    "        else:\n",
    "            b[i] = y_i[cont]\n",
    "            cont+=1\n",
    "    \n",
    "    return A,b"
   ]
  },
  {
   "cell_type": "markdown",
   "metadata": {
    "id": "qa10Q10-upLR"
   },
   "source": [
    "## Pregunta 2: (15 puntos)\n",
    "\n",
    "Diseñe una función que tome como input los arreglos $A$; matriz que representa el sistema de ecuaciones sobre determinado del modelo propuesto, y $\\mathbf{b}$; array de valores $x_{i+1}$, $y_{i+1}$: $[x_1, y_1, ..., x_n, y_n]$ asociado al modelo propuesto. La función debe retornar un arreglo ***coef*** con los coeficientes $[\\alpha_0, \\alpha_1, \\alpha_2, \\alpha_3, \\beta_0, \\beta_1, \\beta_2, \\beta_3]$ que ajustan mejor el modelo a los puntos dados,\n",
    "\n",
    "Notar que de la forma que fue construido y planteado el sistema de ecuaciones se obtienen los coeficientes para ambas curvas simultáneamente."
   ]
  },
  {
   "cell_type": "code",
   "execution_count": 4,
   "metadata": {},
   "outputs": [],
   "source": [
    "\"\"\"\n",
    "input\n",
    "A: (array) matriz a calcular la factorizacion QR\n",
    "\n",
    "output\n",
    "Q: (array) matriz Q\n",
    "R: (array) matriz R\n",
    "\n",
    "Funcion sacada de los codigos del curso.\n",
    "\"\"\"\n",
    "def QR(A, type_factorization = 'reduced', type_gram_schmidt='classic'):\n",
    "    A.astype('float')\n",
    "    if type_factorization == 'reduced':\n",
    "        Q = np.zeros(A.shape)\n",
    "        R = np.zeros((A.shape[1],A.shape[1]))\n",
    "    elif type_factorization == 'full':\n",
    "        Q = np.zeros((A.shape[0],A.shape[0]))\n",
    "        R = np.zeros(A.shape)\n",
    "    for j in np.arange(A.shape[1]):\n",
    "        y = A[:,j]\n",
    "        for i in np.arange(j):\n",
    "            if type_gram_schmidt == 'classic':\n",
    "                R[i,j] = np.dot(Q[:,i],A[:,j])\n",
    "            elif type_gram_schmidt == 'modified':\n",
    "                R[i,j] = np.dot(Q[:,i],y)\n",
    "            y=y-R[i,j]*Q[:,i]\n",
    "        R[j,j] = np.linalg.norm(y)\n",
    "        Q[:,j] = y/np.linalg.norm(R[j,j])\n",
    "       \n",
    "    return Q,R "
   ]
  },
  {
   "cell_type": "code",
   "execution_count": 5,
   "metadata": {
    "id": "odEdIe_ajEH2"
   },
   "outputs": [],
   "source": [
    "\"\"\"\n",
    "input\n",
    "A      : (array) arreglo bidimensional con valores obtenidos en la pregunta anterior\n",
    "b      : (array) arreglo de valores conocidos (lado derecho de la ecuación)\n",
    "\n",
    "output\n",
    "coef      : (array) arreglo solución del sistema\n",
    "\"\"\"\n",
    "def minimos_cuadrados(A, b):\n",
    "\n",
    "    Q, R = QR(A)\n",
    "    Rinv = np.linalg.inv(R)\n",
    "    QT = Q.T\n",
    "    RporQ = np.dot(Rinv, QT)\n",
    "    coef = np.dot(RporQ, b)\n",
    "    \n",
    "    return coef"
   ]
  },
  {
   "cell_type": "markdown",
   "metadata": {
    "id": "6UpbFYzN6tsu"
   },
   "source": [
    "## Pregunta 3 (20 puntos):\n",
    "\n",
    "Cree una función que tome como input un arreglo **coef**, con los coeficientes obtenidos en la pregunta anterior, y un punto de partida inicial, i.e.: ***x_inicial*** e ***y_inicial***, y $m$ como el número de puntos a predecir, con $m<=100$. Además recibe el parámetro ***curve_choose***, el cual es un número booleano que de valer 0 la función calculará las predicciones para la curva 1 ($x$) y en caso contrario calculará las predicciones para la curva 2 ($y$). La función debe retornar un array ***pred*** con las predicciones pedidas para los $m$ puntos.\n",
    "\n",
    "+ Hint 1: Mirar las ecuaciones planteadas en el modelo.\n",
    "+ Hint 2: Los datos $x_{i+1}$ e $y_{i+1}$ se calculan con\n",
    "los valores del paso anterior $x_i$ e $y_i$, por lo que para obtener todos los puntos se debe hacer algo como un \"Pipeline\"."
   ]
  },
  {
   "cell_type": "code",
   "execution_count": 6,
   "metadata": {
    "id": "akJLWT--8t4L"
   },
   "outputs": [],
   "source": [
    "\"\"\"\n",
    "input\n",
    "coef          : (array) arreglo con los coeficientes obtenidos en pregunta 2\n",
    "x_init        : (float) valor actual de x\n",
    "y_init        : (float) valor actual de y\n",
    "m             : (int) cantidad de puntos a pronosticar\n",
    "curve_choose  : (boolean) número que vale 0 en caso de hacer predicciones para curva 1, y en caso contrario hacer predicciones para curva 2\n",
    "\n",
    "output\n",
    "pred          : (array) arreglo con las predicciones del modelo según curve_choose partiendo desde los valores iniciales entregados\n",
    "\"\"\"\n",
    "def pred_model(x_init, y_init, m, coef, curve_choose):\n",
    "    \n",
    "    pred = np.zeros(m)\n",
    "    \n",
    "    if curve_choose == 0:\n",
    "        pred[0] = x_init\n",
    "        for i in range(1,m):\n",
    "            pred[i] = coef[0] + x_init*coef[1] + y_init*coef[2] + x_init*y_init*coef[3]\n",
    "            y_init = coef[4] + x_init*coef[5] + y_init*coef[6] + x_init*x_init*y_init*coef[7]\n",
    "            x_init = pred[i]\n",
    "    elif curve_choose == 1:\n",
    "        pred[0] = y_init\n",
    "        for i in range(1,m):\n",
    "            pred[i] = coef[4] + x_init*coef[5] + y_init*coef[6] + x_init*x_init*y_init*coef[7]\n",
    "            x_init = coef[0] + x_init*coef[1] + y_init*coef[2] + x_init*y_init*coef[3]\n",
    "            y_init = pred[i]\n",
    "    \n",
    "    return pred"
   ]
  },
  {
   "cell_type": "markdown",
   "metadata": {
    "id": "BMkR99sCthQG"
   },
   "source": [
    "## Pregunta 4 (20 puntos):\n",
    "\n",
    "Supongamos que ahora tenemos disponible:\n",
    "\n",
    "+ Valores que predecimos para $x_i$ con la función ***pred_model*** con ***curve_choose*** = 0, $m = 100$.\n",
    "\n",
    "No tenemos disponible:\n",
    "\n",
    "+ Valores que predecimos para $y_i$ con la función ***pred_model*** con ***curve_choose*** = 1, $m = 100$.\n",
    "\n",
    "La idea es poder aproximar $y_i$ usando una aproximación, para ello se sugiere hacer lo siguiente: Tomar cada valor $x_{i+1}$ y restar $x_{i}$, a estas \"pendientes\" que van quedando se les llamara $\\hat{y_i}$.\n",
    "\n",
    "Por ejemplo para las primeras 2 pendientes: $\\hat{y_i} = [x_{1} - x_{0}, x_{2}-x_{1} ...]$\n",
    "\n",
    "Si ahora decimos que tenemos acceso a los valores predichos para $y_i$ con la función ***pred_model*** con ***curve_choose*** = 1, $m = 100$, y comparamos los resultados con $\\hat{y_i}$ notaremos una gran diferencia, por lo que, tenemos que buscar una forma de encontrar una constante ***C*** tal que se cumpla lo siguiente:\n",
    "\n",
    "\\begin{equation*}\n",
    "    C\\hat{y_{i}} = y_i\n",
    "\\end{equation*}\n",
    "\n",
    "Lo cual nuevamente se transforma en un problema de mínimos cuadrados:\n",
    "\n",
    "\\begin{align*}\n",
    "    C\\hat{y_{1}} &= y_1\\\\\n",
    "    C\\hat{y_{2}} &= y_2\\\\\n",
    "    C\\hat{y_{3}} &= y_3\\\\\n",
    "    C\\hat{y_{4}} &= y_4\\\\\n",
    "                &...\\\\\n",
    "    C\\hat{y_{99}} &= y_{99}\n",
    "\\end{align*}\n",
    "\n",
    "El objetivo de esta función es encontrar la $C$ que ajuste mejor nuestro modelo artificial con diferencias, al modelo que se predijo originalmente.\n",
    "\n",
    "La función recibe como input ***x_i_pred*** con valores predichos para $x_i$ con la función ***pred_model*** con ***curve_choose*** = 0, $m = 100$, y retorna como output ***C***, con el valor de la constante que mejor ajusta lo pedido.\n",
    "\n",
    "Considere para las predicciones de ***x_i_pred*** usar los valores iniciales $x_0 = 2.1764052345967664$, e $y_0 = 0.18831506970562545$. Los mismos valores iniciales se usarán para calcular los valores predichos de $y_i$ al formar el nuevo modelo."
   ]
  },
  {
   "cell_type": "code",
   "execution_count": 11,
   "metadata": {
    "id": "AxrLxiVLtgeE"
   },
   "outputs": [],
   "source": [
    "\"\"\"\n",
    "input\n",
    "x_i_pred    : (array) array con predicciones para la curva 1(x_i) para 100 puntos, tomando como datos iniciales \n",
    "\n",
    "output\n",
    "C      : (double) número con el valor de constante que ajusta mejor el modelo de diferencias, al modelo de mínimos cuadrados original\n",
    "\"\"\"\n",
    "def curve_approach(x_i_pred, y_i_pred):\n",
    "    \n",
    "    dim = x_i_pred.shape[0]\n",
    "    \n",
    "    y_techo = np.zeros(dim-1)\n",
    "    \n",
    "    for i in range(1,dim):\n",
    "        y_techo[i-1] = x_i_pred[i]-x_i_pred[i-1]\n",
    "    \n",
    "    y_techo = y_techo.reshape((99,1))\n",
    "    y_i_pred = np.delete(y_i_pred,99, axis=0)\n",
    "    Q,R = QR(y_techo)\n",
    "    Rinv = np.linalg.inv(R)\n",
    "    QT = Q.T\n",
    "    RporQ = np.dot(Rinv, QT)\n",
    "    C = np.dot(RporQ, y_i_pred)\n",
    "    \n",
    "    return C[0]"
   ]
  },
  {
   "cell_type": "markdown",
   "metadata": {
    "id": "Hs4s3vlNoiVZ"
   },
   "source": [
    "## Pregunta 5 (15 puntos): \n",
    "A continuación se presenta una función que muestra pronósticos realizados a partir del modelo ajustado en la pregunta 2. Estas predicciones son generadas gracias a los coeficientes del modelo, a los cuales además se les agregan perturbaciones en forma de ruido gaussiano de media 0 y desviación estándar 0.01.\n",
    "\n",
    "Modifique la función que está a continuación para que calcule la desviación estándar de las predicciones con perturbaciones para cada punto $i\\in \\{n+1,...N\\}$, donde $N$ es el horizonte de predicción.\n",
    "\n",
    "Lo anterior significa: Sea $k$ el número de perturbaciones, y sea $x_i^k$ una predicción de superíndice $k$ de $x_i$ perturbada. Se pide que para cada punto $i$ se calcule la desviación estándar de todas las perturbaciones $k$.\n"
   ]
  },
  {
   "cell_type": "code",
   "execution_count": 8,
   "metadata": {
    "id": "sk9oVARk8zmg"
   },
   "outputs": [],
   "source": [
    "\"\"\"\n",
    "input\n",
    "x      : (array) arreglo x_i\n",
    "y      : (array) arreglo y_i\n",
    "coef   : (array) arreglo de coeficientes\n",
    "N      : \n",
    "k      : \n",
    "\n",
    "output\n",
    "sdx    : (array) arreglo de las desviaciones estándar para cada punto i de x\n",
    "sdy    : (array) arreglo de las desviaciones estándar para cada punto i de y\n",
    "\"\"\"\n",
    "def disturbed(x,y,coef, N, k):    \n",
    "               \n",
    "    \"\"\" \n",
    "    Hint 1: Se recomienda crear una estructura de datos\n",
    "    para almacenar las curvas perturbadas.\n",
    "    \"\"\"  \n",
    "\n",
    "    xi = []\n",
    "    yi = []\n",
    "    for i in range(N+1):\n",
    "        xi.append([])\n",
    "        yi.append([])\n",
    "    \n",
    "    np.random.seed(0) \n",
    "    for tmp in range(k):\n",
    "        xdo=pred_model(x[N-1],y[N-1],N+1,coef*(1+np.random.normal(0,0.01,8)), 0)\n",
    "        ydo=pred_model(x[N-1],y[N-1],N+1,coef*(1+np.random.normal(0,0.01,8)), 1)\n",
    "        \n",
    "        # Desviaciones\n",
    "        \"\"\" \n",
    "        Hint 2: Almacenar convenientemente las perturbaciones xdo e ydo.\n",
    "        \"\"\"    \n",
    "        \n",
    "        for i in range(N+1):\n",
    "            xi[i].append(xdo[i])\n",
    "        for i in range(N+1):\n",
    "            yi[i].append(ydo[i])\n",
    "        \n",
    "    \"\"\" \n",
    "    Hint 3: Calcule las desviaciones de las perturbaciones almacenadas.\n",
    "    \"\"\"   \n",
    "    sdx = np.zeros(N+1)\n",
    "    sdy = np.zeros(N+1)\n",
    "    for i in range(N+1):\n",
    "        desv_x = np.std(xi[i])\n",
    "        desv_y = np.std(yi[i])\n",
    "        \n",
    "        sdx[i] = desv_x\n",
    "        sdy[i] = desv_y\n",
    "    \n",
    "    return sdx,sdy"
   ]
  },
  {
   "cell_type": "markdown",
   "metadata": {
    "id": "jcyj1M7dVNpz"
   },
   "source": [
    "# Pregunta 6 (15 puntos)\n",
    "Luego de encontrar la desviación estándar en cada paso de predicción para ambas curvas $x,y$ perturbadas ***k*** veces, aproxime la curva resultante $sdx$ usando mínimos cuadrados con el siguiente modelo:\n",
    "$$ \\alpha_0 + \\alpha_1\\,j = sdx_j$$\n",
    "\n",
    "Donde $j$ es el paso a partir de la nueva data pronosticada en las preguntas anteriores.\n",
    "\n",
    "La función recibe como input: $A$ la matriz que representa el lado izquierdo del sistema de mínimos cuadrados que se propone, y $b$ el arreglo de valores $sdx_i$. Se deben retornar los coeficientes encontrados.\n"
   ]
  },
  {
   "cell_type": "code",
   "execution_count": 9,
   "metadata": {
    "id": "70jd5SPT8zmh"
   },
   "outputs": [],
   "source": [
    "\"\"\"\n",
    "input\n",
    "A      : (array) arreglo bidimensional sobre determinado\n",
    "b      : (array) arreglo de valores sdx_i: [sdx_1, sdx_2, ..., sdx_m]\n",
    "\n",
    "output\n",
    "coef   : (array) arreglo solución del sistema\n",
    "\"\"\"\n",
    "def minimos_lin(A, b):\n",
    "    \n",
    "    Q, R = QR(A)\n",
    "    Rinv = np.linalg.inv(R)\n",
    "    QT = Q.T\n",
    "    RporQ = np.dot(Rinv, QT)\n",
    "    coef = np.dot(RporQ, b)\n",
    "    \n",
    "    return coef"
   ]
  },
  {
   "cell_type": "markdown",
   "metadata": {
    "id": "2rHefMxh5usR"
   },
   "source": [
    "# Pregunta 7 (5 puntos)\n",
    "\n",
    "De las siguientes alternativas relacionadas con la tarea escoja la que considere correcta.\n",
    "\n"
   ]
  },
  {
   "cell_type": "code",
   "execution_count": 10,
   "metadata": {
    "id": "91z1oU4q5xTa"
   },
   "outputs": [],
   "source": [
    "# Con respecto a su implementación de los algoritmos:\n",
    "def alternativas():\n",
    "    resp = {\n",
    "            \"a\" : \"En la pregunta 4 es conveniente usar esa aproximación, ya que la complejidad temporal del algoritmo de aproximación es mucho menor que usar un modelo de minimos cuadrados\",\n",
    "            \"b\" : \"El modelo lineal propuesto en la pregunta 6 es una buena aproximación de la desviación estándar de las curvas perturbadas\",\n",
    "            \"c\" : \"En la pregunta 3, no es conveniente predecir más de 100 puntos hacia adelante, ya que el modelo planteado fue ajustado solo con 100 puntos inicialmente\"\n",
    "    }\n",
    "    # Dentro de las comillas va la alternativa escogida: a || b || c\n",
    "    return resp['a'] # Debe reemplazar 'x' por la alternativa seleccionada."
   ]
  },
  {
   "cell_type": "markdown",
   "metadata": {},
   "source": [
    "# Referencias\n",
    "\n",
    "- https://github.com/tclaudioe/Scientific-Computing/blob/master/SC1v2/07_08_Least_Squares.ipynb"
   ]
  }
 ],
 "metadata": {
  "colab": {
   "collapsed_sections": [],
   "name": "Tarea_4_CC_final.ipynb",
   "provenance": []
  },
  "kernelspec": {
   "display_name": "Python 3",
   "language": "python",
   "name": "python3"
  },
  "language_info": {
   "codemirror_mode": {
    "name": "ipython",
    "version": 3
   },
   "file_extension": ".py",
   "mimetype": "text/x-python",
   "name": "python",
   "nbconvert_exporter": "python",
   "pygments_lexer": "ipython3",
   "version": "3.6.10"
  }
 },
 "nbformat": 4,
 "nbformat_minor": 5
}
