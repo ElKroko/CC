{
  "cells": [
    {
      "cell_type": "markdown",
      "metadata": {
        "id": "53D-sEY9td13"
      },
      "source": [
        "<center>\n",
        "    <h1> INF285 - Computación Científica </h1>\n",
        "    <h2> Tarea 4 - Código Base</h2>\n",
        "    <h2> [S]cientific [C]omputing [T]eam </a> </h2>\n",
        "    <h2> Version: 1.00</h2>\n",
        "</center>"
      ]
    },
    {
      "cell_type": "markdown",
      "metadata": {
        "id": "w5itZS0Q14Eb"
      },
      "source": [
        "# Consideraciones\n",
        "\n",
        "Asuma que se ingresaran *inputs* validos para las preguntas de desarrollo, es decir se puede prescindir u obviar las siguientes situaciones:\n",
        "+ Integrales con límite inferior 1, no se ingresará algún límite superior menor a 1.\n",
        "+ Al calcular beta(x,y) no se ingresarán pares de números $(x, y)$ tal que $x\\leq0$ o $y\\leq 0$.\n",
        "+ No se ingresará un $n$ (puntos de Chebyshev) tal que la función colapse o genere overflow.\n",
        "+ No se ingresará un $m$ grande tal que la función colapse o genere overflow.\n",
        "+ No se ingresará $m<1$."
      ]
    },
    {
      "cell_type": "markdown",
      "metadata": {
        "id": "f_V8HkDreOTJ"
      },
      "source": [
        "# No debe utilizar bibliotecas adicionales."
      ]
    },
    {
      "cell_type": "code",
      "execution_count": 1,
      "metadata": {
        "id": "0n0TMKodw2Cn"
      },
      "outputs": [],
      "source": [
        "import scipy as sp\n",
        "from scipy import integrate\n",
        "from scipy import special\n",
        "from scipy import interpolate\n",
        "import numpy as np\n",
        "import time"
      ]
    },
    {
      "cell_type": "markdown",
      "metadata": {
        "id": "lwokI34yecw3"
      },
      "source": [
        "## Funciones base obligatorias"
      ]
    },
    {
      "cell_type": "code",
      "execution_count": 2,
      "metadata": {
        "id": "B57t7qRayntm"
      },
      "outputs": [],
      "source": [
        "# La siguiente función calcula el valor de beta para un escalar 'x', 'y'.\n",
        "\n",
        "# ATENCIÓN! Esta función es solo para el correcto funcionamiento\n",
        "# de la siguiente función 'beta_repre', y NO debe ser llamada directamente.\n",
        "def beta_def(x, y):\n",
        "    inner_beta = lambda t,x,y: t**(x-1)*(1-t)**(y-1)\n",
        "    return sp.integrate.quad(func=lambda t: inner_beta(t, x, y), a=0, b=1)[0]\n",
        "\n",
        "# La siguiente función calcula el valor de beta para un vector X y un escalar y.\n",
        "\n",
        "# ATENCIÓN! Cada vez que necesite calcular el valor de 'beta' para un input 'X', 'y',\n",
        "# usted deberá llamar a la siguiente función:\n",
        "\"\"\"\n",
        "input\n",
        "y      : (double) parametro fijo en beta_repre(x, y)\n",
        "output\n",
        "betas: (numpy array) valores de beta(X, y), 'X' un vector, 'y' un valor fijo.\n",
        "\"\"\"\n",
        "def beta_repre(y):    \n",
        "    beta = np.vectorize(beta_def)\n",
        "    return lambda X: beta(X, y)"
      ]
    },
    {
      "cell_type": "markdown",
      "metadata": {
        "id": "oeNFxtZdVifz"
      },
      "source": [
        "```python\n",
        "# Ejemplo de uso de beta_repre(y):\n",
        "X=np.array([1,2,3,4])\n",
        "beta = beta_repre(5)\n",
        "print(beta(X))\n",
        ">>>[0.2        0.03333333 0.00952381 0.00357143]\n",
        "```"
      ]
    },
    {
      "cell_type": "code",
      "execution_count": 3,
      "metadata": {
        "id": "ziL0AHI-Vif0"
      },
      "outputs": [],
      "source": [
        "\"\"\"\n",
        "input\n",
        "xmin: (int) Valor minimo para el calculo\n",
        "xmax: (int) Valor maximo para el calculo\n",
        "n: (int) Cantidad de puntos de Chebyshev\n",
        "output\n",
        "return: (array) Puntos de Chebyshev\n",
        "Esta funcion corresponde al GitHub oficial del curso por el profesor Claudio Torres\n",
        "\"\"\"\n",
        "def Chebyshev_points(xmin,xmax,n):\n",
        "    ns = np.arange(1,n+1)\n",
        "    x = np.cos((2*ns-1)*np.pi/(2*n))\n",
        "    #y = np.sin((2*ns-1)*np.pi/(2*n))\n",
        "    return (xmin+xmax)/2 + (xmax-xmin)*x/2\n",
        "\n",
        "\n",
        "# Firma función 1\n",
        "\"\"\"\n",
        "input\n",
        "func         : (function) función que se quiere integrar y debe estar vectorizada, esto significa \n",
        "                que si se le pasa un vector 'X' y otro vector 'Y', la función debe retornar la evaluación de 'func'\n",
        "                para cada par  ('X_i', 'Y_i') (ya está implementado en beta_def, beta_repre).\n",
        "a            : (double) límite inferior de integración\n",
        "b            : (double) límite superior de integración\n",
        "n            : (int) orden de cuadratura Gaussiana a utilizar por fixed_quad de scipy.integrate.\n",
        "--------------\n",
        "output\n",
        "result       : (double) resultado de la integral entre a y b de la función func usando cuadratura Gaussiana de orden 'n'.\n",
        "\"\"\"\n",
        "def integral_killer(func, a, b, n):\n",
        "    #Acá va su código(llamar a sp.integrate .... con func=func, a=a, b=b, n=n. [0])\n",
        "    integral_result = sp.integrate.fixed_quad(func=func, a=a, b=b, n=n)[0]\n",
        "    return integral_result\n",
        "\n",
        "# Firma función 2\n",
        "\n",
        "\"\"\"\n",
        "input\n",
        "b      : (double)   límite superior de integración\n",
        "func   : (function) función beta_repre, ya viene por defecto, no modificar.\n",
        "y           : (double) parámetro fijo en beta_repre(x, y)\n",
        "n            : (int) orden de cuadratura Gaussiana a utilizar por fixed_quad de scipy.integrate.\n",
        "----\n",
        "output\n",
        "result : (double) resultado de la integral de beta_repre(x, y) entre '1' y 'b'.\n",
        "         hint:llamar a la función 1.\n",
        "\"\"\"\n",
        "def phi1(b, y, n, func=beta_repre):\n",
        "    #HINT:to_integrate = func(y), en las siguientes funciones, la función beta a integrar también se define de esta forma.\n",
        "    #Acá va su código\n",
        "    to_integrate = func(y)\n",
        "    result = integral_killer(to_integrate, 1, b, n)\n",
        "    \n",
        "    return result\n",
        "\n",
        "# Función 3\n",
        "\"\"\"\n",
        "input\n",
        "b           : (double) límite superior hasta donde se creará el polinomio interpolador\n",
        "y           : (double) parámetro fijo en beta_repre(x, y)\n",
        "chev        : (int) cantidad de puntos de Chebyshev a usar en el intervalo x \\in [1, b]\n",
        "func        : (function) función beta_repre, ya viene por defecto, no modificar.\n",
        "output\n",
        "interpolator: (callable) polinomio interpolador de beta_repre(x, y) en el intervalo x \\in [1, b]\n",
        "\"\"\"\n",
        "def beta_interpolator_var(b, y, chev, func=beta_repre):\n",
        "    # Acá va su código\n",
        "    puntos = Chebyshev_points(1,b,chev)\n",
        "    yi = func(y)(puntos)\n",
        "    interpolator = interpolate.BarycentricInterpolator(puntos,yi)\n",
        "    return interpolator\n",
        "\n",
        "# Función 4\n",
        "\"\"\"\n",
        "input\n",
        "chev        : (int) cantidad de puntos de Chebyshev a emplear en el intervalo x \\in [1, 10]\n",
        "y           : (double) parámetro fijo en beta_repre(x, y)\n",
        "func   : (function) función beta_repre, ya viene por defecto, no modificar.\n",
        "output\n",
        "interpolator: (callable) polinomio interpolador de beta_repre(x, y) en x \\in [1, 10]. y fijo.\n",
        "\"\"\"\n",
        "def beta_interpolator_fixed(chev, y, func=beta_repre):\n",
        "    # Acá va su código\n",
        "    puntos = Chebyshev_points(1,10,chev)\n",
        "    yi = func(y)(puntos)\n",
        "    interpolator = interpolate.BarycentricInterpolator(puntos,yi)\n",
        "    return interpolator\n",
        "\n",
        "# Función 5\n",
        "\"\"\"\n",
        "input\n",
        "b           : (double) límite superior de integración\n",
        "chev        : (int) cantidad de puntos de Chebyshev a considerar\n",
        "y           : (double) parámetro fijo en beta_repre(x, y)\n",
        "n            : (int) orden de cuadratura Gaussiana a utilizar por fixed_quad de scipy.integrate.\n",
        "output\n",
        "result      : (double) resultado de la integral del polinomio que interpola beta en [1, b]\n",
        "\n",
        "HINT: interpolar con función 3 y luego usar integral_killer\n",
        "\"\"\"\n",
        "def phi2(b, y, chev, n):\n",
        "    # Acá va su código\n",
        "    funcion = beta_interpolator_var(b, y, chev)\n",
        "    result = integral_killer(funcion, 1, b, n)\n",
        "    return result\n",
        "\n",
        "# Función 6\n",
        "\"\"\"\n",
        "input\n",
        "inter: (calleable) polinomio interpolador de beta(x,y), x \\in [1, 10], algún y fijo.\n",
        "b : (double) límite superior de integración\n",
        "n            : (int) orden de cuadratura Gaussiana a utilizar por fixed_quad de scipy.integrate.\n",
        "output\n",
        "results      : (double) resultado de la integral del polinomio que interpola beta x\\in [1, 10], algun y fijo.\n",
        "\n",
        "HINT: llamar integral_killer de inter, donde inter es el polinomio que ya viene creado desde afuera con beta_interpolator_fixed.\n",
        "\"\"\"\n",
        "def phi3(inter, b, n):\n",
        "    # Acá va su código\n",
        "    result = integral_killer(inter, 1, b, n)\n",
        "    return result"
      ]
    },
    {
      "cell_type": "markdown",
      "metadata": {
        "id": "eW5_T4ExVif2"
      },
      "source": [
        "```python\n",
        "# Ejemplo de uso de integral_killer(func, a, b, n)\n",
        "func = lambda x: x**2\n",
        "resultado = integral_killer(func, 1, 3, 1e3)\n",
        "print(resultado)\n",
        ">>>8.666666666666398\n",
        "# Lo cual corresponde a la integral entre 1 y 3 de x**2.\n",
        "```\n",
        "```python\n",
        "# Ejemplo de uso para beta_interpolator_fixed(chev, y):\n",
        "nums = np.array([1,2,3,4,5,6,7,8])\n",
        "chev = 10\n",
        "y = 5\n",
        "polinomio_interpolador = beta_interpolator_fixed(chev, y)\n",
        "print(polinomio_interpolador(nums))\n",
        ">>>[1.97518508e-01 3.23039184e-02 1.02343962e-02 3.02134758e-03\n",
        " 1.78634347e-03 9.58418583e-04 1.25105091e-04 5.08777247e-04]\n",
        "```"
      ]
    },
    {
      "cell_type": "markdown",
      "metadata": {
        "id": "0MnH9gNd1jOA"
      },
      "source": [
        "## Funciones para testing\n",
        "\n",
        "Las siguientes funciones ya estan implementadas y son para probar el código que se escribió."
      ]
    },
    {
      "cell_type": "code",
      "execution_count": 4,
      "metadata": {
        "id": "9-NSgkY99jDi"
      },
      "outputs": [],
      "source": [
        "\"\"\"\n",
        "input\n",
        "func_n: (int) corresponde a phi1 si func_n = 1, phi2 si func_n = 2, o phi3 si func_n = 3.\n",
        "chev  : (int) cantidad de puntos de Chebyshev a considerar.\n",
        "m : (int) cantidad de puntos equiespaciados a participar el intervalo [2, 10], límites inclusivos.\n",
        "y           : (double) parametro fijo en beta_repre(x, y)\n",
        "func   : (function) función beta_repre, ya viene por defecto, no modificar.\n",
        "n            : (int) orden de cuadratura Gaussiana a utilizar por fixed_quad de scipy.integrate.\n",
        "output\n",
        "results      : (numpy array) resultados de la integral de func para los rangos dados.\n",
        "\"\"\"\n",
        "def test_betas(chev, m, y, func_n, n, func=beta_repre):\n",
        "    if func_n == 1:\n",
        "        results = np.array([phi1(b, y, n) for b in np.linspace(2, 10, m)])\n",
        "    elif func_n == 2:\n",
        "        results = np.array([phi2(b, y, chev, n) for b in np.linspace(2,10,m)])\n",
        "    elif func_n == 3:\n",
        "        polinom_fix = beta_interpolator_fixed(chev, y, func)\n",
        "        results = np.array([phi3(polinom_fix, b, n) for b in np.linspace(2,10,m)])\n",
        "    else:\n",
        "        results = np.array([0])\n",
        "    return results\n",
        "\"\"\"\n",
        "input\n",
        "func_n : (int) corresponde a phi1 si func_1 = 1, phi2 si func_1 = 2, o phi3 si func_1 = 3.\n",
        "chev  : (int) cantidad de puntos de Chebyshev a considerar, en caso de ser necesario.\n",
        "m : (int) cantidad de puntos equiespaciados a participar el intervalo [2, 10], límites inclusivos.\n",
        "y           : (double) parametro fijo en beta_repre(x, y)\n",
        "n            : (int) orden de cuadratura Gaussiana a utilizar por fixed_quad de scipy.integrate.\n",
        "output\n",
        "tiempo      : (double) tiempo de computo de la llamada de func_n\n",
        "\"\"\"\n",
        "def timing(func_n, chev, m, y, n):\n",
        "    if func_n < 1 or func_n > 3:\n",
        "        tiempo = -1\n",
        "    else:\n",
        "        start = time.time()\n",
        "        test_betas(chev, m, y, func_n, n)\n",
        "        end = time.time()\n",
        "        tiempo = end-start\n",
        "    return tiempo\n",
        "\"\"\"\n",
        "input\n",
        "chev  : (int) cantidad de puntos de Chebyshev a considerar, en caso de ser necesario.\n",
        "m : (int) cantidad de puntos equiespaciados a participar el intervalo [2, 10], límites inclusivos.\n",
        "y           : (double) parametro fijo en beta_repre(x, y)\n",
        "n            : (int) orden de cuadratura Gaussiana a utilizar por fixed_quad de scipy.integrate.\n",
        "output\n",
        "winner      : (array) arreglo de métodos ordenado de más rápido a más lento\n",
        "ordered_times: (array) con los tiempos de cómputo de los algoritmo implementados en la pregunta anterior, en el mismo orden que ganadores.\n",
        "\"\"\"\n",
        "def competencia(chev,m, y, n):\n",
        "    times=np.zeros(3)\n",
        "    times[0]=timing(1, chev, m, y, n)\n",
        "    times[1]=timing(2, chev, m, y, n)\n",
        "    times[2]=timing(3, chev, m, y, n)\n",
        "    ordered_index=np.argsort(times)\n",
        "    ordered_times=times[ordered_index]\n",
        "    winner=ordered_index+1\n",
        "    return winner, ordered_times"
      ]
    },
    {
      "cell_type": "markdown",
      "metadata": {
        "id": "4WumMTMC7u01"
      },
      "source": [
        "```python\n",
        "# Ejemplo de uso de competencia:\n",
        "ganadores, tiempos = competencia(100,20, 5, 1e3)\n",
        "print(ganadores)\n",
        "print(tiempos)\n",
        ">>> ... *\n",
        ">>> ... **\n",
        "# Lo que se imprime en * es la lista en orden descendente donde el primer elemento es el mejor algoritmo.\n",
        "#Lo que se imprime en ** es una lista con los tiempos que demoro en correr el algoritmo de la pregunta 6, en el mismo orden que ganadores.\n",
        "```"
      ]
    },
    {
      "cell_type": "markdown",
      "source": [
        "## Referencias"
      ],
      "metadata": {
        "id": "wvCh8QLwqtCC"
      }
    },
    {
      "cell_type": "markdown",
      "source": [
        "- GitHub oficial del curso por el profesor Claudio Torres.\n",
        "\n",
        "https://github.com/tclaudioe/Scientific-Computing/blob/master/SC1v2/05_Polynomial_Interpolation_1D.ipynb"
      ],
      "metadata": {
        "id": "Nx8JaACxqzVi"
      }
    }
  ],
  "metadata": {
    "colab": {
      "collapsed_sections": [],
      "name": "201873598-1-tarea-4.ipynb",
      "provenance": []
    },
    "kernelspec": {
      "display_name": "Python 3",
      "name": "python3"
    },
    "language_info": {
      "codemirror_mode": {
        "name": "ipython",
        "version": 3
      },
      "file_extension": ".py",
      "mimetype": "text/x-python",
      "name": "python",
      "nbconvert_exporter": "python",
      "pygments_lexer": "ipython3",
      "version": "3.9.7"
    }
  },
  "nbformat": 4,
  "nbformat_minor": 0
}