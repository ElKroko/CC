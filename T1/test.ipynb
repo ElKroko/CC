{
 "cells": [
  {
   "cell_type": "code",
   "execution_count": 48,
   "metadata": {},
   "outputs": [
    {
     "data": {
      "text/latex": [
       "$\\displaystyle \\frac{x - \\left(- t + x\\right)^{5}}{t}$"
      ],
      "text/plain": [
       "(x - (-t + x)**5)/t"
      ]
     },
     "execution_count": 48,
     "metadata": {},
     "output_type": "execute_result"
    }
   ],
   "source": [
    "import sympy as sym\n",
    "import numpy as np\n",
    "\n",
    "t = sym.symbols(\"t\")\n",
    "x = sym.symbols(\"x\")\n",
    "f0 = x\n",
    "f1 = ((x - t)**5)\n",
    "\n",
    "f5 = (f0 - f1)/t\n",
    "f5\n"
   ]
  },
  {
   "cell_type": "code",
   "execution_count": 52,
   "metadata": {},
   "outputs": [
    {
     "data": {
      "text/latex": [
       "$\\displaystyle \\frac{x}{t} - \\frac{- t^{5} + 5 t^{4} x - 10 t^{3} x^{2} + 10 t^{2} x^{3} - 5 t x^{4} + x^{5}}{t}$"
      ],
      "text/plain": [
       "x/t - (-t**5 + 5*t**4*x - 10*t**3*x**2 + 10*t**2*x**3 - 5*t*x**4 + x**5)/t"
      ]
     },
     "execution_count": 52,
     "metadata": {},
     "output_type": "execute_result"
    }
   ],
   "source": [
    "f3 = sym.expand(f1)\n",
    "\n",
    "f4 =  (f0/t - f3/t)\n",
    "f4"
   ]
  },
  {
   "cell_type": "code",
   "execution_count": 58,
   "metadata": {},
   "outputs": [
    {
     "data": {
      "text/latex": [
       "$\\displaystyle t^{4} - 5 t^{3} x + 10 t^{2} x^{2} - 10 t x^{3} + 5 x^{4} - \\frac{x^{5}}{t} + \\frac{x}{t}$"
      ],
      "text/plain": [
       "t**4 - 5*t**3*x + 10*t**2*x**2 - 10*t*x**3 + 5*x**4 - x**5/t + x/t"
      ]
     },
     "execution_count": 58,
     "metadata": {},
     "output_type": "execute_result"
    }
   ],
   "source": [
    "f6 = t**4 - 5*t**3*x + 10*t**2*x**2 - 10*t*x**3 - (x**5)/t + x/t + 5*x**4\n",
    "f6"
   ]
  },
  {
   "cell_type": "code",
   "execution_count": 59,
   "metadata": {},
   "outputs": [
    {
     "data": {
      "text/latex": [
       "$\\displaystyle - 5 t^{3} + 20 t^{2} x - 30 t x^{2} + 20 x^{3} - \\frac{5 x^{4}}{t} + \\frac{1}{t}$"
      ],
      "text/plain": [
       "-5*t**3 + 20*t**2*x - 30*t*x**2 + 20*x**3 - 5*x**4/t + 1/t"
      ]
     },
     "execution_count": 59,
     "metadata": {},
     "output_type": "execute_result"
    }
   ],
   "source": [
    "f7 = sym.diff(f6,x)\n",
    "f7"
   ]
  },
  {
   "cell_type": "markdown",
   "metadata": {},
   "source": []
  }
 ],
 "metadata": {
  "interpreter": {
   "hash": "aa579fe1a218ea406d1b21851c2a0ab689426a767c2a1c2774a66701a4a51300"
  },
  "kernelspec": {
   "display_name": "Python 3.9.12 ('CC')",
   "language": "python",
   "name": "python3"
  },
  "language_info": {
   "codemirror_mode": {
    "name": "ipython",
    "version": 3
   },
   "file_extension": ".py",
   "mimetype": "text/x-python",
   "name": "python",
   "nbconvert_exporter": "python",
   "pygments_lexer": "ipython3",
   "version": "3.9.12"
  },
  "orig_nbformat": 4
 },
 "nbformat": 4,
 "nbformat_minor": 2
}
