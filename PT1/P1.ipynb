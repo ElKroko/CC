{
 "cells": [
  {
   "cell_type": "markdown",
   "metadata": {},
   "source": [
    "Teniendo en cuenta que f(x) = log(x-sqrt(x^2 - 1))"
   ]
  },
  {
   "cell_type": "code",
   "execution_count": 17,
   "metadata": {},
   "outputs": [
    {
     "name": "stdout",
     "output_type": "stream",
     "text": [
      "f4\n",
      "f(x1) =  -0.0\n",
      "f(x2) =  -12.0\n",
      "f(x3) =  -24.0\n",
      "f(x4) =  -36.0\n",
      "f(x5) =  -48.0\n"
     ]
    }
   ],
   "source": [
    "import numpy as np\n",
    "\n",
    "f1 = lambda x: np.log(x - np.sqrt(x**2 - 1))\n",
    "f2 = lambda x: np.log(x + ((x**2 - 1)/ np.sqrt(x**2 - 1)))\n",
    "# f3 = lambda x: np.log(x**2 - x - 1/ (x - np.sqrt(x**2 - 1)))\n",
    "f4 = lambda x: -np.log(x + np.sqrt((x-1)*(x+1)))\n",
    "\n",
    "x1=1.00000000000000000000000000000\n",
    "x3=1.32445610649217361470884567491e10\n",
    "x4=2.15561577355759761355671114643e15\n",
    "x5=3.50836795604881586932735799943e20\n",
    "x2=81377.3957125740665806667073286\n",
    "\n",
    "print(\"f4\")\n",
    "print(\"f(x1) = \", f4(x1))\n",
    "print(\"f(x2) = \", f4(x2))\n",
    "print(\"f(x3) = \", f4(x3))\n",
    "print(\"f(x4) = \", f4(x4))\n",
    "print(\"f(x5) = \", f4(x5))"
   ]
  }
 ],
 "metadata": {
  "interpreter": {
   "hash": "aa579fe1a218ea406d1b21851c2a0ab689426a767c2a1c2774a66701a4a51300"
  },
  "kernelspec": {
   "display_name": "Python 3.9.12 ('CC')",
   "language": "python",
   "name": "python3"
  },
  "language_info": {
   "codemirror_mode": {
    "name": "ipython",
    "version": 3
   },
   "file_extension": ".py",
   "mimetype": "text/x-python",
   "name": "python",
   "nbconvert_exporter": "python",
   "pygments_lexer": "ipython3",
   "version": "3.9.12"
  },
  "orig_nbformat": 4
 },
 "nbformat": 4,
 "nbformat_minor": 2
}
