{
 "cells": [
  {
   "cell_type": "code",
   "execution_count": null,
   "metadata": {},
   "outputs": [],
   "source": [
    "\"\"\"\n",
    "--------------------------------------------------------TP3A : Interpolation in Lagrange basis of data on a 2D gridRemark : as we will use the two numpy functions np.meshgrid and np.outer, we will transpose the outputs of np.meshgrid so as to get the following numbering : (0,0) (0,1) (0,2) ... (1,0) (1,1) (1,2) ... (2,0) (2,1) (2,2) ... ... ... ...--------------------------------------------------------\n",
    "\"\"\"\n",
    "import numpy as npimport matplotlib.pyplot as pltimport time\n",
    "\"\"\"--------------------functions--------------------\"\"\"\n",
    "# initial surface for the tests\n",
    "def f(x,y) : \n",
    "    return np.exp(-(x+1)**2 - (y+1)**2) + np.exp(-(x-1)**2 - (y-1)**2)\n",
    "\n",
    "def LagrangePoly(k,xi,t): \n",
    "    \"\"\" Determination of the k-th Lagrange polynomial L_k(x) associated with points xi, for a vector t of numerical values Input: k = integer designing the Lagrange polynomial to be evaluated xi = vector of points defining the Lagrange polynomial t = vector of real values (sampling of an interval [a,b]) Output: y = L_k(t) \"\"\"\n",
    "    n = np.size(xi) # degree + 1 \n",
    "    y = np.ones(np.size(t)) \n",
    "    for j in range(n): \n",
    "        if j != k: \n",
    "            y = y * (t - xi[j])/ (xi[k] - xi[j]) \n",
    "    return y\n",
    "                \n",
    "                \n",
    "\"\"\"--------------------------------------MAIN PROGRAM--------------------------------------\"\"\""
   ]
  }
 ],
 "metadata": {
  "language_info": {
   "name": "python"
  },
  "orig_nbformat": 4
 },
 "nbformat": 4,
 "nbformat_minor": 2
}
